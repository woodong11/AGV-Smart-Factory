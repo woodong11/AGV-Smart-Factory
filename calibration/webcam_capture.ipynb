{
 "cells": [
  {
   "cell_type": "code",
   "execution_count": 9,
   "metadata": {},
   "outputs": [],
   "source": [
    "#webcam on"
   ]
  },
  {
   "cell_type": "code",
   "execution_count": 6,
   "metadata": {},
   "outputs": [],
   "source": [
    "import cv2\n",
    "from pop import Util"
   ]
  },
  {
   "cell_type": "code",
   "execution_count": null,
   "metadata": {},
   "outputs": [
    {
     "data": {
      "application/vnd.jupyter.widget-view+json": {
       "model_id": "bf6941b1cdbe4e1cb1ce043ef17c2dc7",
       "version_major": 2,
       "version_minor": 0
      },
      "text/plain": [
       "Image(value=b'\\xff\\xd8\\xff\\xe0\\x00\\x10JFIF\\x00\\x01\\x01\\x00\\x00\\x01\\x00\\x01\\x00\\x00\\xff\\xdb\\x00C\\x00\\x02\\x01\\x0…"
      ]
     },
     "metadata": {},
     "output_type": "display_data"
    }
   ],
   "source": [
    "Util.enable_imshow()\n",
    "\n",
    "cam = Util.gstrmer(width=640,height=480)\n",
    "camera =cv2.VideoCapture(cam,cv2.CAP_GSTREAMER)\n",
    "if not camera.isOpened():\n",
    "    print(\"NOT found camera\")\n",
    "    \n",
    "while True:\n",
    "    ret,frame = camera.read()\n",
    "    cv2.imshow(\"soda\",frame)\n",
    "camera.release()\n",
    "cv2.destoryAllWindows()"
   ]
  },
  {
   "cell_type": "code",
   "execution_count": null,
   "metadata": {},
   "outputs": [],
   "source": [
    "# capture image "
   ]
  },
  {
   "cell_type": "code",
   "execution_count": 5,
   "metadata": {},
   "outputs": [],
   "source": [
    "import cv2\n",
    "import time\n",
    "from pop import Util"
   ]
  },
  {
   "cell_type": "code",
   "execution_count": 12,
   "metadata": {},
   "outputs": [
    {
     "data": {
      "application/vnd.jupyter.widget-view+json": {
       "model_id": "8dec238356a64ceeb7a40c9f0f4f1484",
       "version_major": 2,
       "version_minor": 0
      },
      "text/plain": [
       "Image(value=b'\\xff\\xd8\\xff\\xe0\\x00\\x10JFIF\\x00\\x01\\x01\\x00\\x00\\x01\\x00\\x01\\x00\\x00\\xff\\xdb\\x00C\\x00\\x02\\x01\\x0…"
      ]
     },
     "metadata": {},
     "output_type": "display_data"
    },
    {
     "name": "stdout",
     "output_type": "stream",
     "text": [
      "image/captured_img_0.pngwritten!\n",
      "image/captured_img_1.pngwritten!\n",
      "image/captured_img_2.pngwritten!\n",
      "image/captured_img_3.pngwritten!\n",
      "image/captured_img_4.pngwritten!\n",
      "image/captured_img_5.pngwritten!\n",
      "image/captured_img_6.pngwritten!\n",
      "image/captured_img_7.pngwritten!\n",
      "image/captured_img_8.pngwritten!\n",
      "image/captured_img_9.pngwritten!\n",
      "image/captured_img_10.pngwritten!\n",
      "image/captured_img_11.pngwritten!\n",
      "image/captured_img_12.pngwritten!\n",
      "image/captured_img_13.pngwritten!\n",
      "image/captured_img_14.pngwritten!\n",
      "image/captured_img_15.pngwritten!\n",
      "image/captured_img_16.pngwritten!\n",
      "image/captured_img_17.pngwritten!\n",
      "image/captured_img_18.pngwritten!\n",
      "image/captured_img_19.pngwritten!\n"
     ]
    },
    {
     "ename": "AttributeError",
     "evalue": "module 'cv2' has no attribute 'destoryAllWindows'",
     "output_type": "error",
     "traceback": [
      "\u001b[0;31m---------------------------------------------------------------------------\u001b[0m",
      "\u001b[0;31mAttributeError\u001b[0m                            Traceback (most recent call last)",
      "\u001b[0;32m<ipython-input-12-1bd07292123f>\u001b[0m in \u001b[0;36m<module>\u001b[0;34m\u001b[0m\n\u001b[1;32m     22\u001b[0m \u001b[0;34m\u001b[0m\u001b[0m\n\u001b[1;32m     23\u001b[0m \u001b[0mcamera\u001b[0m\u001b[0;34m.\u001b[0m\u001b[0mrelease\u001b[0m\u001b[0;34m(\u001b[0m\u001b[0;34m)\u001b[0m\u001b[0;34m\u001b[0m\u001b[0;34m\u001b[0m\u001b[0m\n\u001b[0;32m---> 24\u001b[0;31m \u001b[0mcv2\u001b[0m\u001b[0;34m.\u001b[0m\u001b[0mdestoryAllWindows\u001b[0m\u001b[0;34m(\u001b[0m\u001b[0;34m)\u001b[0m\u001b[0;34m\u001b[0m\u001b[0;34m\u001b[0m\u001b[0m\n\u001b[0m",
      "\u001b[0;31mAttributeError\u001b[0m: module 'cv2' has no attribute 'destoryAllWindows'"
     ]
    }
   ],
   "source": [
    "Util.enable_imshow()\n",
    "\n",
    "cam = Util.gstrmer(width=640,height=480)\n",
    "camera =cv2.VideoCapture(cam,cv2.CAP_GSTREAMER)\n",
    "img_counter=0\n",
    "interval =10\n",
    "if not camera.isOpened():\n",
    "    print(\"NOT found camera\")\n",
    "    \n",
    "while True:\n",
    "    current_time = int(time.time())\n",
    "    ret,frame = camera.read()\n",
    "    cv2.imshow(\"soda\",frame)\n",
    "    if current_time % interval == 0:\n",
    "        img_name=\"image/captured_img_{}.png\".format(img_counter)\n",
    "        cv2.imwrite(img_name,frame)\n",
    "        print(\"{}written!\".format(img_name))\n",
    "        img_counter+=1\n",
    "        if(img_counter == 20):\n",
    "            break\n",
    "        time.sleep(1)\n",
    "    \n",
    "camera.release()\n",
    "cv2.destoryAllWindows()"
   ]
  },
  {
   "cell_type": "code",
   "execution_count": null,
   "metadata": {},
   "outputs": [],
   "source": [
    "# find camera intrinsic parameters ! "
   ]
  },
  {
   "cell_type": "code",
   "execution_count": 1,
   "metadata": {},
   "outputs": [],
   "source": [
    "import numpy as np\n",
    "import cv2"
   ]
  },
  {
   "cell_type": "code",
   "execution_count": 2,
   "metadata": {},
   "outputs": [
    {
     "name": "stdout",
     "output_type": "stream",
     "text": [
      "Camera matrix:\n",
      " [[497.73103339   0.         236.69169791]\n",
      " [  0.         665.11213666 274.63204925]\n",
      " [  0.           0.           1.        ]]\n",
      "Distortion coefficients:\n",
      " [[-0.44148389  0.20830902 -0.00840704  0.02274212 -0.10547549]]\n"
     ]
    }
   ],
   "source": [
    "\n",
    "# 체스판 이미지에서 코너를 검출하기 위한 설정\n",
    "CHESSBOARD_SIZE = (8, 5)\n",
    "CHESSBOARD_FLAGS = cv2.CALIB_CB_ADAPTIVE_THRESH | cv2.CALIB_CB_NORMALIZE_IMAGE\n",
    "\n",
    "# 카메라 캘리브레이션을 위한 샘플 이미지 경로\n",
    "CALIBRATION_IMAGES = ['image/captured_img_0.png','image/captured_img_1.png','image/captured_img_2.png','image/captured_img_3.png','image/captured_img_4.png',\n",
    "                      'image/captured_img_5.png','image/captured_img_6.png','image/captured_img_7.png','image/captured_img_8.png','image/captured_img_9.png',\n",
    "                      'image/captured_img_10.png','image/captured_img_11.png','image/captured_img_12.png','image/captured_img_13.png','image/captured_img_14.png',\n",
    "                      'image/captured_img_15.png','image/captured_img_16.png','image/captured_img_17.png','image/captured_img_18.png','image/captured_img_19.png']\n",
    "\n",
    "# 체스판 코너를 검출하기 위한 객체 생성\n",
    "chessboard_criteria = (cv2.TERM_CRITERIA_EPS + cv2.TERM_CRITERIA_MAX_ITER, 30, 0.001)\n",
    "\n",
    "# 체스판 코너를 검출하기 위한 함수\n",
    "def find_chessboard_corners(image_path):\n",
    "    image = cv2.imread(image_path)\n",
    "    gray = cv2.cvtColor(image, cv2.COLOR_BGR2GRAY)\n",
    "    ret, corners = cv2.findChessboardCorners(gray, CHESSBOARD_SIZE, None, CHESSBOARD_FLAGS)\n",
    "    if ret:\n",
    "        corners = cv2.cornerSubPix(gray, corners, (11, 11), (-1, -1), chessboard_criteria)\n",
    "    return ret, corners\n",
    "\n",
    "# 캘리브레이션에 필요한 체스판 코너 검출 결과\n",
    "object_points = []\n",
    "image_points = []\n",
    "\n",
    "# 체스판 코너 검출\n",
    "for image_path in CALIBRATION_IMAGES:\n",
    "    ret, corners = find_chessboard_corners(image_path)\n",
    "    if ret:\n",
    "        object_points.append(np.zeros((CHESSBOARD_SIZE[0] * CHESSBOARD_SIZE[1], 3), np.float32))\n",
    "        object_points[-1][:, :2] = np.mgrid[0:CHESSBOARD_SIZE[0], 0:CHESSBOARD_SIZE[1]].T.reshape(-1, 2)\n",
    "        image_points.append(corners)\n",
    "\n",
    "# 카메라 캘리브레이션\n",
    "image_size = cv2.imread(CALIBRATION_IMAGES[0]).shape[:2]\n",
    "ret, camera_matrix, distortion_coefficients, rotation_vectors, translation_vectors = cv2.calibrateCamera(\n",
    "    object_points, image_points, image_size, None, None\n",
    ")\n",
    "print(\"Camera matrix:\\n\", camera_matrix)\n",
    "print(\"Distortion coefficients:\\n\", distortion_coefficients)\n",
    "np.save(\"intrinsic_parameters/camera_matrix.npy\",camera_matrix)\n",
    "np.save(\"intrinsic_parameters/distortion_coefficients.npy\",distortion_coefficients)\n",
    "# 결과 출력\n"
   ]
  },
  {
   "cell_type": "code",
   "execution_count": 3,
   "metadata": {},
   "outputs": [],
   "source": [
    "import cv2\n",
    "import numpy as np\n",
    "from pop import Util"
   ]
  },
  {
   "cell_type": "code",
   "execution_count": 4,
   "metadata": {},
   "outputs": [
    {
     "name": "stdout",
     "output_type": "stream",
     "text": [
      "camera_matrix [[497.73103339   0.         236.69169791]\n",
      " [  0.         665.11213666 274.63204925]\n",
      " [  0.           0.           1.        ]]\n",
      "dist_coeffs [[-0.44148389  0.20830902 -0.00840704  0.02274212 -0.10547549]]\n"
     ]
    },
    {
     "data": {
      "application/vnd.jupyter.widget-view+json": {
       "model_id": "bf6941b1cdbe4e1cb1ce043ef17c2dc7",
       "version_major": 2,
       "version_minor": 0
      },
      "text/plain": [
       "Image(value=b'\\xff\\xd8\\xff\\xe0\\x00\\x10JFIF\\x00\\x01\\x01\\x00\\x00\\x01\\x00\\x01\\x00\\x00\\xff\\xdb\\x00C\\x00\\x02\\x01\\x0…"
      ]
     },
     "metadata": {},
     "output_type": "display_data"
    },
    {
     "ename": "KeyboardInterrupt",
     "evalue": "",
     "output_type": "error",
     "traceback": [
      "\u001b[0;31m---------------------------------------------------------------------------\u001b[0m",
      "\u001b[0;31mKeyboardInterrupt\u001b[0m                         Traceback (most recent call last)",
      "\u001b[0;32m<ipython-input-4-ae736e4b5e4f>\u001b[0m in \u001b[0;36m<module>\u001b[0;34m\u001b[0m\n\u001b[1;32m     19\u001b[0m     \u001b[0mret\u001b[0m\u001b[0;34m,\u001b[0m\u001b[0mframe\u001b[0m \u001b[0;34m=\u001b[0m \u001b[0mcamera\u001b[0m\u001b[0;34m.\u001b[0m\u001b[0mread\u001b[0m\u001b[0;34m(\u001b[0m\u001b[0;34m)\u001b[0m\u001b[0;34m\u001b[0m\u001b[0;34m\u001b[0m\u001b[0m\n\u001b[1;32m     20\u001b[0m     \u001b[0mundistorted\u001b[0m\u001b[0;34m=\u001b[0m\u001b[0mcv2\u001b[0m\u001b[0;34m.\u001b[0m\u001b[0mundistort\u001b[0m\u001b[0;34m(\u001b[0m\u001b[0mframe\u001b[0m\u001b[0;34m,\u001b[0m\u001b[0mcamera_matrix\u001b[0m\u001b[0;34m,\u001b[0m\u001b[0mdist_coeffs\u001b[0m\u001b[0;34m)\u001b[0m\u001b[0;34m\u001b[0m\u001b[0;34m\u001b[0m\u001b[0m\n\u001b[0;32m---> 21\u001b[0;31m     \u001b[0mcv2\u001b[0m\u001b[0;34m.\u001b[0m\u001b[0mimshow\u001b[0m\u001b[0;34m(\u001b[0m\u001b[0;34m\"soda\"\u001b[0m\u001b[0;34m,\u001b[0m\u001b[0mundistorted\u001b[0m\u001b[0;34m)\u001b[0m\u001b[0;34m\u001b[0m\u001b[0;34m\u001b[0m\u001b[0m\n\u001b[0m\u001b[1;32m     22\u001b[0m \u001b[0;34m\u001b[0m\u001b[0m\n\u001b[1;32m     23\u001b[0m \u001b[0;34m\u001b[0m\u001b[0m\n",
      "\u001b[0;32m/usr/local/lib/python3.6/dist-packages/pop/Util.py\u001b[0m in \u001b[0;36mimshow\u001b[0;34m(title, image, width, height, mode)\u001b[0m\n\u001b[1;32m     50\u001b[0m \u001b[0;34m\u001b[0m\u001b[0m\n\u001b[1;32m     51\u001b[0m     \u001b[0;32mif\u001b[0m \u001b[0mw_ratio\u001b[0m \u001b[0;34m<=\u001b[0m \u001b[0mh_ratio\u001b[0m\u001b[0;34m:\u001b[0m\u001b[0;34m\u001b[0m\u001b[0;34m\u001b[0m\u001b[0m\n\u001b[0;32m---> 52\u001b[0;31m         \u001b[0mimg\u001b[0m \u001b[0;34m=\u001b[0m \u001b[0m_image_resize\u001b[0m\u001b[0;34m(\u001b[0m\u001b[0mimage\u001b[0m\u001b[0;34m,\u001b[0m \u001b[0mwidth\u001b[0m\u001b[0;34m=\u001b[0m\u001b[0miw\u001b[0m\u001b[0;34m)\u001b[0m\u001b[0;34m\u001b[0m\u001b[0;34m\u001b[0m\u001b[0m\n\u001b[0m\u001b[1;32m     53\u001b[0m     \u001b[0;32melse\u001b[0m\u001b[0;34m:\u001b[0m\u001b[0;34m\u001b[0m\u001b[0;34m\u001b[0m\u001b[0m\n\u001b[1;32m     54\u001b[0m         \u001b[0mimg\u001b[0m \u001b[0;34m=\u001b[0m \u001b[0m_image_resize\u001b[0m\u001b[0;34m(\u001b[0m\u001b[0mimage\u001b[0m\u001b[0;34m,\u001b[0m \u001b[0mheight\u001b[0m\u001b[0;34m=\u001b[0m\u001b[0mih\u001b[0m\u001b[0;34m)\u001b[0m\u001b[0;34m\u001b[0m\u001b[0;34m\u001b[0m\u001b[0m\n",
      "\u001b[0;32m/usr/local/lib/python3.6/dist-packages/pop/Util.py\u001b[0m in \u001b[0;36m_image_resize\u001b[0;34m(image, width, height, inter)\u001b[0m\n\u001b[1;32m     22\u001b[0m            \u001b[0mdim\u001b[0m \u001b[0;34m=\u001b[0m \u001b[0;34m(\u001b[0m\u001b[0mwidth\u001b[0m\u001b[0;34m,\u001b[0m \u001b[0mint\u001b[0m\u001b[0;34m(\u001b[0m\u001b[0mh\u001b[0m \u001b[0;34m*\u001b[0m \u001b[0mr\u001b[0m\u001b[0;34m)\u001b[0m\u001b[0;34m)\u001b[0m\u001b[0;34m\u001b[0m\u001b[0;34m\u001b[0m\u001b[0m\n\u001b[1;32m     23\u001b[0m \u001b[0;34m\u001b[0m\u001b[0m\n\u001b[0;32m---> 24\u001b[0;31m        \u001b[0mresized\u001b[0m \u001b[0;34m=\u001b[0m \u001b[0mcv2\u001b[0m\u001b[0;34m.\u001b[0m\u001b[0mresize\u001b[0m\u001b[0;34m(\u001b[0m\u001b[0mimage\u001b[0m\u001b[0;34m,\u001b[0m \u001b[0mdim\u001b[0m\u001b[0;34m,\u001b[0m \u001b[0minterpolation\u001b[0m \u001b[0;34m=\u001b[0m \u001b[0minter\u001b[0m\u001b[0;34m)\u001b[0m\u001b[0;34m\u001b[0m\u001b[0;34m\u001b[0m\u001b[0m\n\u001b[0m\u001b[1;32m     25\u001b[0m \u001b[0;34m\u001b[0m\u001b[0m\n\u001b[1;32m     26\u001b[0m        \u001b[0;32mreturn\u001b[0m \u001b[0mresized\u001b[0m\u001b[0;34m\u001b[0m\u001b[0;34m\u001b[0m\u001b[0m\n",
      "\u001b[0;31mKeyboardInterrupt\u001b[0m: "
     ]
    }
   ],
   "source": [
    "Util.enable_imshow()\n",
    "\n",
    "cam = Util.gstrmer(width=640,height=480)\n",
    "camera =cv2.VideoCapture(cam,cv2.CAP_GSTREAMER)\n",
    "\n",
    "img_counter=0\n",
    "interval =10\n",
    "camera_matrix_file=\"intrinsic_parameters/camera_matrix.npy\"\n",
    "dist_coeffs_file = \"intrinsic_parameters/distortion_coefficients.npy\"\n",
    "\n",
    "camera_matrix=np.load(camera_matrix_file)\n",
    "dist_coeffs=np.load(dist_coeffs_file)\n",
    "print(\"camera_matrix\",camera_matrix)\n",
    "print(\"dist_coeffs\",dist_coeffs)\n",
    "if not camera.isOpened():\n",
    "    print(\"NOT found camera\")\n",
    "    \n",
    "while True:\n",
    "    ret,frame = camera.read()\n",
    "    undistorted=cv2.undistort(frame,camera_matrix,dist_coeffs)\n",
    "    cv2.imshow(\"soda\",undistorted)\n",
    "    \n",
    "camera.release()\n",
    "cv2.destoryAllWindows()"
   ]
  },
  {
   "cell_type": "code",
   "execution_count": 6,
   "metadata": {},
   "outputs": [],
   "source": [
    "import cv2\n",
    "import numpy as np\n",
    "from pop import Util"
   ]
  },
  {
   "cell_type": "code",
   "execution_count": 8,
   "metadata": {},
   "outputs": [
    {
     "data": {
      "application/vnd.jupyter.widget-view+json": {
       "model_id": "6d3c068be8de4c2490d089a80e8cdfb3",
       "version_major": 2,
       "version_minor": 0
      },
      "text/plain": [
       "Image(value=b'\\xff\\xd8\\xff\\xe0\\x00\\x10JFIF\\x00\\x01\\x01\\x00\\x00\\x01\\x00\\x01\\x00\\x00\\xff\\xdb\\x00C\\x00\\x02\\x01\\x0…"
      ]
     },
     "metadata": {},
     "output_type": "display_data"
    },
    {
     "data": {
      "application/vnd.jupyter.widget-view+json": {
       "model_id": "cbcceb1adb3749b5bf0dffba2a2a3ada",
       "version_major": 2,
       "version_minor": 0
      },
      "text/plain": [
       "Image(value=b'\\xff\\xd8\\xff\\xe0\\x00\\x10JFIF\\x00\\x01\\x01\\x00\\x00\\x01\\x00\\x01\\x00\\x00\\xff\\xdb\\x00C\\x00\\x02\\x01\\x0…"
      ]
     },
     "metadata": {},
     "output_type": "display_data"
    },
    {
     "name": "stdout",
     "output_type": "stream",
     "text": [
      "Original image resolution: (480, 640)\n",
      "Undistorted image resolution: (480, 640)\n"
     ]
    }
   ],
   "source": [
    "Util.enable_imshow()\n",
    "\n",
    "# 이미지 파일 경로\n",
    "IMAGE_PATH = \"image/captured_img_17.png\"\n",
    "\n",
    "# 내부 파라미터 파일 경로\n",
    "CAMERA_MATRIX_PATH = \"intrinsic_parameters/camera_matrix.npy\"\n",
    "DISTORTION_COEFFICIENTS_PATH = \"intrinsic_parameters/distortion_coefficients.npy\"\n",
    "\n",
    "# 이미지 불러오기\n",
    "original_image = cv2.imread(IMAGE_PATH)\n",
    "\n",
    "# 내부 파라미터 로드\n",
    "camera_matrix = np.load(CAMERA_MATRIX_PATH)\n",
    "distortion_coefficients = np.load(DISTORTION_COEFFICIENTS_PATH)\n",
    "\n",
    "# 이미지 캘리브레이션\n",
    "undistorted_image = cv2.undistort(original_image, camera_matrix, distortion_coefficients)\n",
    "\n",
    "cv2.imwrite(\"undistorted_Image.png\",undistorted_image)\n",
    "\n",
    "cv2.imshow(\"Original Image\",original_image)\n",
    "cv2.imshow(\"undistorted_Image\",undistorted_image)\n",
    "# 해상도 출력\n",
    "print(\"Original image resolution:\", original_image.shape[:2])\n",
    "print(\"Undistorted image resolution:\", undistorted_image.shape[:2])"
   ]
  },
  {
   "cell_type": "code",
   "execution_count": null,
   "metadata": {},
   "outputs": [],
   "source": []
  }
 ],
 "metadata": {
  "kernelspec": {
   "display_name": "Python 3 (ipykernel)",
   "language": "python",
   "name": "python3"
  },
  "language_info": {
   "codemirror_mode": {
    "name": "ipython",
    "version": 3
   },
   "file_extension": ".py",
   "mimetype": "text/x-python",
   "name": "python",
   "nbconvert_exporter": "python",
   "pygments_lexer": "ipython3",
   "version": "3.6.9"
  }
 },
 "nbformat": 4,
 "nbformat_minor": 4
}
