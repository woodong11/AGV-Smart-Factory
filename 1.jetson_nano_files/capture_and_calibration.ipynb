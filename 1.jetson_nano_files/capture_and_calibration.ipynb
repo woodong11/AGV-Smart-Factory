{
 "cells": [
  {
   "cell_type": "markdown",
   "metadata": {},
   "source": [
    "### 1. 기본적인 웹캠 켜는 코드"
   ]
  },
  {
   "cell_type": "code",
   "execution_count": 1,
   "metadata": {},
   "outputs": [
    {
     "data": {
      "application/vnd.jupyter.widget-view+json": {
       "model_id": "c4cc34c55ee64cdcb423a8d816cb0251",
       "version_major": 2,
       "version_minor": 0
      },
      "text/plain": [
       "Image(value=b'\\xff\\xd8\\xff\\xe0\\x00\\x10JFIF\\x00\\x01\\x01\\x00\\x00\\x01\\x00\\x01\\x00\\x00\\xff\\xdb\\x00C\\x00\\x02\\x01\\x0…"
      ]
     },
     "metadata": {},
     "output_type": "display_data"
    }
   ],
   "source": [
    "import traitlets\n",
    "import ipywidgets\n",
    "from IPython.display import display\n",
    "from jetbot import Camera, bgr8_to_jpeg\n",
    "\n",
    "camera = Camera.instance(width=300, height=300)\n",
    "\n",
    "#카메라로 찍은 frame 을 띄워줄 image 객체 생성, 크기를 맞출 필요는 없다.\n",
    "image = ipywidgets.Image(format='jpeg', width=300, height=300) \n",
    "camera_link = traitlets.dlink((camera, 'value'), (image, 'value'), transform=bgr8_to_jpeg)\n",
    "\n",
    "display(image)"
   ]
  },
  {
   "cell_type": "markdown",
   "metadata": {},
   "source": [
    "### 2. 카메라 객체 종료 코드"
   ]
  },
  {
   "cell_type": "code",
   "execution_count": 3,
   "metadata": {},
   "outputs": [],
   "source": [
    "camera.stop()"
   ]
  },
  {
   "cell_type": "code",
   "execution_count": null,
   "metadata": {},
   "outputs": [],
   "source": [
    "# 이미지 저장 테스트\n",
    "image_shot = camera.value\n",
    "cv2.imwrite('./checkboard_images/aptured_image.jpg', image_shot)\n",
    "print(\"이미지를 저장했습니다.\")\n",
    "\n",
    "while(True):\n",
    "    print(\"dd\")\n",
    "    time.sleep(1)\n"
   ]
  },
  {
   "cell_type": "markdown",
   "metadata": {},
   "source": [
    "## 2. 이미지 캡쳐하기"
   ]
  },
  {
   "cell_type": "code",
   "execution_count": 4,
   "metadata": {},
   "outputs": [
    {
     "data": {
      "application/vnd.jupyter.widget-view+json": {
       "model_id": "7b45f485d8834b6da9d589d3b765f509",
       "version_major": 2,
       "version_minor": 0
      },
      "text/plain": [
       "Image(value=b'\\xff\\xd8\\xff\\xe0\\x00\\x10JFIF\\x00\\x01\\x01\\x00\\x00\\x01\\x00\\x01\\x00\\x00\\xff\\xdb\\x00C\\x00\\x02\\x01\\x0…"
      ]
     },
     "metadata": {},
     "output_type": "display_data"
    },
    {
     "name": "stdout",
     "output_type": "stream",
     "text": [
      "1715840404\n",
      "./test/captured_img_0.pngwritten!\n",
      "1715840407\n",
      "./test/captured_img_1.pngwritten!\n",
      "1715840410\n",
      "./test/captured_img_2.pngwritten!\n",
      "1715840414\n",
      "./test/captured_img_3.pngwritten!\n",
      "1715840417\n",
      "./test/captured_img_4.pngwritten!\n"
     ]
    }
   ],
   "source": [
    "# capture image \n",
    "import cv2\n",
    "import time\n",
    "img_counter=0\n",
    "interval = 3    # 사진을 찍는 간격 (초 단위)\n",
    "\n",
    "# is_running = camera.running\n",
    "# if not is_running:\n",
    "#     print(\"NOT found camera\")\n",
    "\n",
    "display(image)\n",
    "while True:\n",
    "    current_time = int(time.time())\n",
    "    print(current_time)\n",
    "    frame = camera.value\n",
    "    \n",
    "    img_name=\"./test/captured_img_{}.png\".format(img_counter)\n",
    "    cv2.imwrite(img_name,frame)\n",
    "    print(\"{}written!\".format(img_name))\n",
    "    img_counter+=1\n",
    "    if(img_counter == 5):\n",
    "        break\n",
    "    time.sleep(3)\n",
    "    \n",
    "camera.stop()"
   ]
  },
  {
   "cell_type": "code",
   "execution_count": 19,
   "metadata": {},
   "outputs": [
    {
     "name": "stdout",
     "output_type": "stream",
     "text": [
      "이미지 크기: (300, 300, 3)\n",
      "[[[ 81  91  90]\n",
      "  [ 80  85  98]\n",
      "  [ 83  89  95]\n",
      "  ...\n",
      "  [133 137 137]\n",
      "  [139 138 139]\n",
      "  [135 134 141]]\n",
      "\n",
      " [[ 80  91  90]\n",
      "  [ 72  87  89]\n",
      "  [ 84  89  81]\n",
      "  ...\n",
      "  [129 137 138]\n",
      "  [137 136 138]\n",
      "  [135 136 145]]\n",
      "\n",
      " [[ 86  93  90]\n",
      "  [ 76  89  92]\n",
      "  [ 86  90  96]\n",
      "  ...\n",
      "  [137 137 144]\n",
      "  [142 135 141]\n",
      "  [137 131 141]]\n",
      "\n",
      " ...\n",
      "\n",
      " [[  0   0   0]\n",
      "  [  0   0   2]\n",
      "  [  0   0   0]\n",
      "  ...\n",
      "  [119 115 123]\n",
      "  [123 117 127]\n",
      "  [123 117 121]]\n",
      "\n",
      " [[  0   0   0]\n",
      "  [  0   0   0]\n",
      "  [  0   0   0]\n",
      "  ...\n",
      "  [119 114 122]\n",
      "  [122 120 125]\n",
      "  [124 119 131]]\n",
      "\n",
      " [[  0   4   0]\n",
      "  [  0   0   7]\n",
      "  [  0   0   2]\n",
      "  ...\n",
      "  [124 118 124]\n",
      "  [114 116 124]\n",
      "  [113 114 117]]]\n"
     ]
    }
   ],
   "source": [
    "image_np = cv2.imread('./checkboard_images/captured_img_7.png', cv2.IMREAD_UNCHANGED)\n",
    "print(f\"이미지 크기: {image_np.shape}\")\n",
    "print(image_np)\n",
    "camera.stop()"
   ]
  },
  {
   "cell_type": "markdown",
   "metadata": {},
   "source": [
    "## 3. Calibration으로 파라미터, 왜곡계수 찾기"
   ]
  },
  {
   "cell_type": "code",
   "execution_count": 18,
   "metadata": {},
   "outputs": [
    {
     "name": "stdout",
     "output_type": "stream",
     "text": [
      "['checkboard_images/captured_img_26.png', 'checkboard_images/captured_img_20.png', 'checkboard_images/captured_img_9.png', 'checkboard_images/captured_img_7.png', 'checkboard_images/captured_img_3.png', 'checkboard_images/captured_img_13.png', 'checkboard_images/captured_img_22.png', 'checkboard_images/captured_img_21.png', 'checkboard_images/captured_img_4.png', 'checkboard_images/captured_img_25.png', 'checkboard_images/captured_img_17.png', 'checkboard_images/captured_img_5.png', 'checkboard_images/captured_img_14.png', 'checkboard_images/captured_img_18.png', 'checkboard_images/captured_img_23.png', 'checkboard_images/captured_img_12.png', 'checkboard_images/captured_img_16.png', 'checkboard_images/captured_img_10.png', 'checkboard_images/captured_img_6.png', 'checkboard_images/captured_img_24.png', 'checkboard_images/captured_img_15.png', 'checkboard_images/captured_img_8.png', 'checkboard_images/captured_img_11.png', 'checkboard_images/captured_img_19.png']\n",
      "Camera matrix:\n",
      " [[143.1741169    0.         144.52728132]\n",
      " [  0.         189.22983068 142.75844376]\n",
      " [  0.           0.           1.        ]]\n",
      "Distortion coefficients:\n",
      " [[-3.41473631e-01  1.67474878e-01  4.81115840e-05  1.18391685e-03\n",
      "  -5.85043848e-02]]\n"
     ]
    }
   ],
   "source": [
    "# find camera intrinsic parameters ! \n",
    "import numpy as np\n",
    "import cv2\n",
    "import glob\n",
    "\n",
    "# 체스판 이미지에서 코너를 검출하기 위한 설정 (세로 점 개수, 가로 점 개수)\n",
    "CHESSBOARD_SIZE = (6, 4)        \n",
    "CHESSBOARD_FLAGS = cv2.CALIB_CB_ADAPTIVE_THRESH | cv2.CALIB_CB_NORMALIZE_IMAGE\n",
    "\n",
    "# 카메라 캘리브레이션을 위한 샘플 이미지 경로\n",
    "CALIBRATION_IMAGES = glob.glob('checkboard_images/*.png')\n",
    "print(CALIBRATION_IMAGES)\n",
    "\n",
    "# 체스판 코너를 검출하기 위한 객체 생성\n",
    "chessboard_criteria = (cv2.TERM_CRITERIA_EPS + cv2.TERM_CRITERIA_MAX_ITER,40, 0.001)\n",
    "\n",
    "# 체스판 코너를 검출하기 위한 함수\n",
    "def find_chessboard_corners(image_path):\n",
    "    image = cv2.imread(image_path)\n",
    "    gray = cv2.cvtColor(image, cv2.COLOR_BGR2GRAY)\n",
    "    ret, corners = cv2.findChessboardCorners(gray, CHESSBOARD_SIZE, None, CHESSBOARD_FLAGS)\n",
    "    if ret:\n",
    "        corners = cv2.cornerSubPix(gray, corners, (11, 11), (-1, -1), chessboard_criteria)\n",
    "    return ret, corners\n",
    "\n",
    "# 캘리브레이션에 필요한 체스판 코너 검출 결과\n",
    "object_points = []\n",
    "image_points = []\n",
    "\n",
    "# 체스판 코너 검출\n",
    "for image_path in CALIBRATION_IMAGES:\n",
    "    ret, corners = find_chessboard_corners(image_path)\n",
    "    if ret:\n",
    "        object_points.append(np.zeros((CHESSBOARD_SIZE[0] * CHESSBOARD_SIZE[1], 3), np.float32))\n",
    "        object_points[-1][:, :2] = np.mgrid[0:CHESSBOARD_SIZE[0], 0:CHESSBOARD_SIZE[1]].T.reshape(-1, 2)\n",
    "        image_points.append(corners)\n",
    "\n",
    "# 카메라 캘리브레이션\n",
    "image_size = cv2.imread(CALIBRATION_IMAGES[0]).shape[:2]\n",
    "ret, camera_matrix, distortion_coefficients, rotation_vectors, translation_vectors = cv2.calibrateCamera(\n",
    "    object_points, image_points, image_size, None, None\n",
    ")\n",
    "print(\"Camera matrix:\\n\", camera_matrix)\n",
    "print(\"Distortion coefficients:\\n\", distortion_coefficients)\n",
    "np.save(\"./parameters/intrinsic_parameter.npy\",camera_matrix)\n",
    "np.save(\"./parameters/distortion_coefficients.npy\",distortion_coefficients)\n",
    "# 결과 출력\n"
   ]
  },
  {
   "cell_type": "markdown",
   "metadata": {},
   "source": [
    "## 4. Calibration을 이용해 얻은 계수로 왜곡 보정 테스트하기"
   ]
  },
  {
   "cell_type": "code",
   "execution_count": null,
   "metadata": {},
   "outputs": [
    {
     "data": {
      "application/vnd.jupyter.widget-view+json": {
       "model_id": "88d9be02e30f4fc8a546ad05ee5c6967",
       "version_major": 2,
       "version_minor": 0
      },
      "text/plain": [
       "Image(value=b'', format='jpeg', height='300', width='300')"
      ]
     },
     "metadata": {},
     "output_type": "display_data"
    },
    {
     "name": "stdout",
     "output_type": "stream",
     "text": [
      "camera_matrix [[143.1741169    0.         144.52728132]\n",
      " [  0.         189.22983068 142.75844376]\n",
      " [  0.           0.           1.        ]]\n",
      "dist_coeffs [[-3.41473631e-01  1.67474878e-01  4.81115840e-05  1.18391685e-03\n",
      "  -5.85043848e-02]]\n"
     ]
    }
   ],
   "source": [
    "import cv2\n",
    "import numpy as np\n",
    "import time\n",
    "import traitlets\n",
    "import ipywidgets as widgets\n",
    "from IPython.display import display\n",
    "from jetbot import Camera, bgr8_to_jpeg\n",
    "import threading\n",
    "\n",
    "# JetBot 카메라 인스턴스 생성\n",
    "camera = Camera.instance(width=300, height=300)\n",
    "\n",
    "# 디스플레이 위젯 생성\n",
    "image_widget = widgets.Image(format='jpeg', width=300, height=300)\n",
    "display(image_widget)\n",
    "\n",
    "# 파라미터 가져옴\n",
    "camera_matrix_file = \"./parameters/intrinsic_parameter.npy\"\n",
    "dist_coeffs_file = \"./parameters/distortion_coefficients.npy\"\n",
    "camera_matrix = np.load(camera_matrix_file)\n",
    "dist_coeffs = np.load(dist_coeffs_file)\n",
    "print(\"camera_matrix\", camera_matrix)\n",
    "print(\"dist_coeffs\", dist_coeffs)\n",
    "\n",
    "# 프레임에 점을 찍고 HSV 값을 표시하는 함수\n",
    "def update_image(change):\n",
    "    frame = camera.value\n",
    "    # 왜곡 보정\n",
    "    undistorted = cv2.undistort(frame, camera_matrix, dist_coeffs)\n",
    "    # 위젯에 이미지 표시\n",
    "    image_widget.value = bgr8_to_jpeg(undistorted)\n",
    "\n",
    "# 카메라 프레임이 변경될 때마다 함수를 호출하여 업데이트\n",
    "camera.observe(update_image, names='value')\n",
    "\n",
    "# 카메라 중지 (Jupyter Notebook을 중지하면 자동으로 호출됨)\n",
    "def stop_camera():\n",
    "    camera.unobserve(update_image, names='value')\n",
    "    camera.stop()\n",
    "\n",
    "# 주피터 종료 시 카메라 중지\n",
    "import atexit\n",
    "atexit.register(stop_camera)"
   ]
  },
  {
   "cell_type": "code",
   "execution_count": 6,
   "metadata": {},
   "outputs": [],
   "source": [
    "import cv2\n",
    "import numpy as np\n",
    "import time\n",
    "import traitlets\n",
    "import ipywidgets as widgets\n",
    "from IPython.display import display\n",
    "from jetbot import Camera, bgr8_to_jpeg\n",
    "import ipywidgets as widgets\n",
    "\n",
    "camera = Camera.instance(width=300, height=300)\n",
    "image = ipywidgets.Image(format='png', width=300, height=300) \n",
    "camera_link = traitlets.dlink((camera, 'value'), (image, 'value'), transform=bgr8_to_jpeg)\n",
    "camera.stop()"
   ]
  },
  {
   "cell_type": "code",
   "execution_count": null,
   "metadata": {},
   "outputs": [],
   "source": []
  },
  {
   "cell_type": "code",
   "execution_count": null,
   "metadata": {},
   "outputs": [],
   "source": [
    "import cv2\n",
    "import numpy as np\n",
    "\n",
    "Util.enable_imshow()\n",
    "\n",
    "# 이미지 파일 경로\n",
    "IMAGE_PATH = \"image/captured_img_17.png\"\n",
    "\n",
    "# 내부 파라미터 파일 경로\n",
    "CAMERA_MATRIX_PATH = \"intrinsic_parameters/camera_matrix.npy\"\n",
    "DISTORTION_COEFFICIENTS_PATH = \"intrinsic_parameters/distortion_coefficients.npy\"\n",
    "\n",
    "# 이미지 불러오기\n",
    "original_image = cv2.imread(IMAGE_PATH)\n",
    "\n",
    "# 내부 파라미터 로드\n",
    "camera_matrix = np.load(CAMERA_MATRIX_PATH)\n",
    "distortion_coefficients = np.load(DISTORTION_COEFFICIENTS_PATH)\n",
    "\n",
    "# 이미지 캘리브레이션\n",
    "undistorted_image = cv2.undistort(original_image, camera_matrix, distortion_coefficients)\n",
    "\n",
    "cv2.imwrite(\"undistorted_Image.png\",undistorted_image)\n",
    "\n",
    "cv2.imshow(\"Original Image\",original_image)\n",
    "cv2.imshow(\"undistorted_Image\",undistorted_image)\n",
    "# 해상도 출력\n",
    "print(\"Original image resolution:\", original_image.shape[:2])\n",
    "print(\"Undistorted image resolution:\", undistorted_image.shape[:2])"
   ]
  },
  {
   "cell_type": "code",
   "execution_count": null,
   "metadata": {},
   "outputs": [],
   "source": [
    "camera.stop()"
   ]
  }
 ],
 "metadata": {
  "kernelspec": {
   "display_name": "Python 3",
   "language": "python",
   "name": "python3"
  },
  "language_info": {
   "codemirror_mode": {
    "name": "ipython",
    "version": 3
   },
   "file_extension": ".py",
   "mimetype": "text/x-python",
   "name": "python",
   "nbconvert_exporter": "python",
   "pygments_lexer": "ipython3",
   "version": "3.6.9"
  }
 },
 "nbformat": 4,
 "nbformat_minor": 4
}
